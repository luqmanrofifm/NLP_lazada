{
  "nbformat": 4,
  "nbformat_minor": 0,
  "metadata": {
    "colab": {
      "name": "tugas sentimen analisis.ipynb",
      "provenance": [],
      "authorship_tag": "ABX9TyMJ7C5EBozVBpub+vzuLNTr"
    },
    "kernelspec": {
      "name": "python3",
      "display_name": "Python 3"
    },
    "language_info": {
      "name": "python"
    }
  },
  "cells": [
    {
      "cell_type": "code",
      "execution_count": 40,
      "metadata": {
        "id": "CAA5oqu54i8d"
      },
      "outputs": [],
      "source": [
        "import pandas as pd\n",
        "\n",
        "df = pd.read_csv(\"/content/train_lazada3_noprocess.csv\")\n",
        "df_test = pd.read_csv(\"/content/test_lazada3_noprocess.csv\")"
      ]
    },
    {
      "cell_type": "markdown",
      "source": [
        "# Without preprocessing"
      ],
      "metadata": {
        "id": "oYAQ3pOm5uqU"
      }
    },
    {
      "cell_type": "markdown",
      "source": [
        "## Modelling"
      ],
      "metadata": {
        "id": "8c43ARta6xTk"
      }
    },
    {
      "cell_type": "code",
      "source": [
        "df_train = df.copy()\n",
        "df_train[\"Review\"] = df_train[\"Review\"].str.lower()\n",
        "df_train"
      ],
      "metadata": {
        "colab": {
          "base_uri": "https://localhost:8080/",
          "height": 424
        },
        "id": "_otBpbzcUDan",
        "outputId": "95a02b4e-4a48-4c44-991f-20ba1a8e1881"
      },
      "execution_count": 41,
      "outputs": [
        {
          "output_type": "execute_result",
          "data": {
            "text/html": [
              "<div>\n",
              "<style scoped>\n",
              "    .dataframe tbody tr th:only-of-type {\n",
              "        vertical-align: middle;\n",
              "    }\n",
              "\n",
              "    .dataframe tbody tr th {\n",
              "        vertical-align: top;\n",
              "    }\n",
              "\n",
              "    .dataframe thead th {\n",
              "        text-align: right;\n",
              "    }\n",
              "</style>\n",
              "<table border=\"1\" class=\"dataframe\">\n",
              "  <thead>\n",
              "    <tr style=\"text-align: right;\">\n",
              "      <th></th>\n",
              "      <th>Review</th>\n",
              "      <th>Label</th>\n",
              "    </tr>\n",
              "  </thead>\n",
              "  <tbody>\n",
              "    <tr>\n",
              "      <th>0</th>\n",
              "      <td>barang tidak pernah sampai yg hitam,yg putih g...</td>\n",
              "      <td>negatif</td>\n",
              "    </tr>\n",
              "    <tr>\n",
              "      <th>1</th>\n",
              "      <td>pengiriman cepat, packing cukup bagus</td>\n",
              "      <td>positif</td>\n",
              "    </tr>\n",
              "    <tr>\n",
              "      <th>2</th>\n",
              "      <td>ok mantap ... good</td>\n",
              "      <td>positif</td>\n",
              "    </tr>\n",
              "    <tr>\n",
              "      <th>3</th>\n",
              "      <td>barang sampai dengan aman. kemampuan laptop se...</td>\n",
              "      <td>positif</td>\n",
              "    </tr>\n",
              "    <tr>\n",
              "      <th>4</th>\n",
              "      <td>puas bgt pengiriman sesuai jadwal, barang bagu...</td>\n",
              "      <td>positif</td>\n",
              "    </tr>\n",
              "    <tr>\n",
              "      <th>...</th>\n",
              "      <td>...</td>\n",
              "      <td>...</td>\n",
              "    </tr>\n",
              "    <tr>\n",
              "      <th>115</th>\n",
              "      <td>jangan di beli gan</td>\n",
              "      <td>negatif</td>\n",
              "    </tr>\n",
              "    <tr>\n",
              "      <th>116</th>\n",
              "      <td>baguss bangett kurir nya jga ramah, cakep pula...</td>\n",
              "      <td>positif</td>\n",
              "    </tr>\n",
              "    <tr>\n",
              "      <th>117</th>\n",
              "      <td>jangan pernah beli disini..parah banget..baran...</td>\n",
              "      <td>negatif</td>\n",
              "    </tr>\n",
              "    <tr>\n",
              "      <th>118</th>\n",
              "      <td>senang belanja disini,pelayanan oke,barang ses...</td>\n",
              "      <td>positif</td>\n",
              "    </tr>\n",
              "    <tr>\n",
              "      <th>119</th>\n",
              "      <td>saya sangat puas dengan barang.nya, kualitas b...</td>\n",
              "      <td>positif</td>\n",
              "    </tr>\n",
              "  </tbody>\n",
              "</table>\n",
              "<p>120 rows × 2 columns</p>\n",
              "</div>"
            ],
            "text/plain": [
              "                                                Review    Label\n",
              "0    barang tidak pernah sampai yg hitam,yg putih g...  negatif\n",
              "1                pengiriman cepat, packing cukup bagus  positif\n",
              "2                                   ok mantap ... good  positif\n",
              "3    barang sampai dengan aman. kemampuan laptop se...  positif\n",
              "4    puas bgt pengiriman sesuai jadwal, barang bagu...  positif\n",
              "..                                                 ...      ...\n",
              "115                                 jangan di beli gan  negatif\n",
              "116  baguss bangett kurir nya jga ramah, cakep pula...  positif\n",
              "117  jangan pernah beli disini..parah banget..baran...  negatif\n",
              "118  senang belanja disini,pelayanan oke,barang ses...  positif\n",
              "119  saya sangat puas dengan barang.nya, kualitas b...  positif\n",
              "\n",
              "[120 rows x 2 columns]"
            ]
          },
          "metadata": {},
          "execution_count": 41
        }
      ]
    },
    {
      "cell_type": "code",
      "source": [
        "from sklearn.feature_extraction.text import TfidfVectorizer,CountVectorizer\n",
        "from sklearn.naive_bayes import MultinomialNB\n",
        "from sklearn import svm\n",
        "from sklearn.model_selection import train_test_split\n",
        "\n",
        "from sklearn.model_selection import KFold\n",
        "from sklearn.model_selection import cross_val_score\n",
        "from sklearn import metrics\n",
        "\n",
        "from numpy import mean\n",
        "from numpy import std"
      ],
      "metadata": {
        "id": "1WXtICTk5gea"
      },
      "execution_count": 42,
      "outputs": []
    },
    {
      "cell_type": "code",
      "source": [
        "CountVector_nopro = CountVectorizer(ngram_range=(1,1))\n",
        "TfidfVector_nopro = TfidfVectorizer(ngram_range=(1,1))"
      ],
      "metadata": {
        "id": "GJMQyzGy66rU"
      },
      "execution_count": 43,
      "outputs": []
    },
    {
      "cell_type": "code",
      "source": [
        "X_count_nopro = CountVector_nopro.fit_transform(df_train[\"Review\"])\n",
        "X_tfidf_nopro = TfidfVector_nopro.fit_transform(df_train[\"Review\"])"
      ],
      "metadata": {
        "id": "tve0oRdZ7IpT"
      },
      "execution_count": 44,
      "outputs": []
    },
    {
      "cell_type": "markdown",
      "source": [
        "### Count"
      ],
      "metadata": {
        "id": "TeTsbH_986oh"
      }
    },
    {
      "cell_type": "markdown",
      "source": [
        "#### Count with Naive bayes"
      ],
      "metadata": {
        "id": "FnLUzuzZ7XX8"
      }
    },
    {
      "cell_type": "code",
      "source": [
        "NBmodelCount_nopro = MultinomialNB()\n",
        "cv = KFold(n_splits=10, random_state=1, shuffle=True)\n",
        "scores_NBcount_nopro = cross_val_score(NBmodelCount_nopro, X_count_nopro.toarray(), df_train[\"Label\"], scoring='accuracy', cv=cv, n_jobs=-1)\n",
        "print('Accuracy: %.3f (%.3f)' % (mean(scores_NBcount_nopro), std(scores_NBcount_nopro)))\n",
        "NBmodelCount_nopro.fit(X_count_nopro.toarray(), df_train[\"Label\"])"
      ],
      "metadata": {
        "colab": {
          "base_uri": "https://localhost:8080/"
        },
        "id": "EdT-NtGG7ZLC",
        "outputId": "72de200d-e370-4389-f327-045079b094da"
      },
      "execution_count": 45,
      "outputs": [
        {
          "output_type": "stream",
          "name": "stdout",
          "text": [
            "Accuracy: 0.850 (0.143)\n"
          ]
        },
        {
          "output_type": "execute_result",
          "data": {
            "text/plain": [
              "MultinomialNB()"
            ]
          },
          "metadata": {},
          "execution_count": 45
        }
      ]
    },
    {
      "cell_type": "markdown",
      "source": [
        "#### Count with SVM"
      ],
      "metadata": {
        "id": "1ls5_D0G7224"
      }
    },
    {
      "cell_type": "code",
      "source": [
        "SVMmodelCount_nopro = svm.SVC(kernel=\"linear\")\n",
        "cv = KFold(n_splits=10, random_state=1, shuffle=True)\n",
        "scores_SVMcount_nopro = cross_val_score(SVMmodelCount_nopro, X_count_nopro.toarray(), df_train[\"Label\"], scoring='accuracy', cv=cv, n_jobs=-1)\n",
        "print('Accuracy: %.3f (%.3f)' % (mean(scores_SVMcount_nopro), std(scores_SVMcount_nopro)))\n",
        "SVMmodelCount_nopro.fit(X_count_nopro.toarray(), df_train[\"Label\"])"
      ],
      "metadata": {
        "colab": {
          "base_uri": "https://localhost:8080/"
        },
        "id": "qkMqZBAt734n",
        "outputId": "4287b2c3-ba90-4a96-d2b0-428706c94a5d"
      },
      "execution_count": 46,
      "outputs": [
        {
          "output_type": "stream",
          "name": "stdout",
          "text": [
            "Accuracy: 0.808 (0.124)\n"
          ]
        },
        {
          "output_type": "execute_result",
          "data": {
            "text/plain": [
              "SVC(kernel='linear')"
            ]
          },
          "metadata": {},
          "execution_count": 46
        }
      ]
    },
    {
      "cell_type": "markdown",
      "source": [
        "### TFIDF"
      ],
      "metadata": {
        "id": "9c5sYafN9CQQ"
      }
    },
    {
      "cell_type": "markdown",
      "source": [
        "#### Tfidf Naive bayes"
      ],
      "metadata": {
        "id": "OhPUrPGu9Fkm"
      }
    },
    {
      "cell_type": "code",
      "source": [
        "NBmodelTfidf_nopro = MultinomialNB()\n",
        "cv = KFold(n_splits=10, random_state=1, shuffle=True)\n",
        "scores_NBtfidf_nopro = cross_val_score(NBmodelTfidf_nopro, X_tfidf_nopro.toarray(), df_train[\"Label\"], scoring='accuracy', cv=cv, n_jobs=-1)\n",
        "print('Accuracy: %.3f (%.3f)' % (mean(scores_NBtfidf_nopro), std(scores_NBtfidf_nopro)))\n",
        "NBmodelTfidf_nopro.fit(X_tfidf_nopro.toarray(), df_train[\"Label\"])"
      ],
      "metadata": {
        "colab": {
          "base_uri": "https://localhost:8080/"
        },
        "id": "mYDT0w7d9ZTQ",
        "outputId": "39e5a858-a2fc-408c-be6b-90e6557c12be"
      },
      "execution_count": 47,
      "outputs": [
        {
          "output_type": "stream",
          "name": "stdout",
          "text": [
            "Accuracy: 0.817 (0.157)\n"
          ]
        },
        {
          "output_type": "execute_result",
          "data": {
            "text/plain": [
              "MultinomialNB()"
            ]
          },
          "metadata": {},
          "execution_count": 47
        }
      ]
    },
    {
      "cell_type": "markdown",
      "source": [
        "#### Tfidf with SVM"
      ],
      "metadata": {
        "id": "TFyj2iFe9Nlk"
      }
    },
    {
      "cell_type": "code",
      "source": [
        "SVMmodelTfidf_nopro = svm.SVC(kernel=\"linear\")\n",
        "cv = KFold(n_splits=10, random_state=1, shuffle=True)\n",
        "scores_SVMtfidf_nopro = cross_val_score(SVMmodelTfidf_nopro, X_tfidf_nopro.toarray(), df_train[\"Label\"], scoring='accuracy', cv=cv, n_jobs=-1)\n",
        "print('Accuracy: %.3f (%.3f)' % (mean(scores_SVMtfidf_nopro), std(scores_SVMtfidf_nopro)))\n",
        "SVMmodelTfidf_nopro.fit(X_tfidf_nopro.toarray(), df_train[\"Label\"])"
      ],
      "metadata": {
        "colab": {
          "base_uri": "https://localhost:8080/"
        },
        "id": "ERSHxu2L9a-_",
        "outputId": "a65f3b8f-1da2-43ce-a134-63b79d08cde8"
      },
      "execution_count": 48,
      "outputs": [
        {
          "output_type": "stream",
          "name": "stdout",
          "text": [
            "Accuracy: 0.850 (0.128)\n"
          ]
        },
        {
          "output_type": "execute_result",
          "data": {
            "text/plain": [
              "SVC(kernel='linear')"
            ]
          },
          "metadata": {},
          "execution_count": 48
        }
      ]
    },
    {
      "cell_type": "markdown",
      "source": [
        "## Testing"
      ],
      "metadata": {
        "id": "vI3q8LPg-rsl"
      }
    },
    {
      "cell_type": "code",
      "source": [
        "from sklearn.metrics import recall_score, precision_score, accuracy_score, f1_score\n",
        "\n",
        "test_count_nopro = CountVector_nopro.transform(df_test[\"Review\"]).toarray()\n",
        "test_tfidf_nopro = TfidfVector_nopro.transform(df_test[\"Review\"]).toarray()"
      ],
      "metadata": {
        "id": "bckHRFqn-wjR"
      },
      "execution_count": 49,
      "outputs": []
    },
    {
      "cell_type": "code",
      "source": [
        "y_true = df_test[\"Label\"]\n",
        "y_NBcount_nopro = NBmodelCount_nopro.predict(test_count_nopro)\n",
        "y_SVMcount_nopro = SVMmodelCount_nopro.predict(test_count_nopro)\n",
        "y_NBtfidf_nopro = NBmodelTfidf_nopro.predict(test_tfidf_nopro)\n",
        "y_SVMtfidf_nopro = SVMmodelTfidf_nopro.predict(test_tfidf_nopro)"
      ],
      "metadata": {
        "id": "61Btidca_INy"
      },
      "execution_count": 50,
      "outputs": []
    },
    {
      "cell_type": "code",
      "source": [
        "metrics_NBcount_nopro = [\"NBcount\",\n",
        "                         accuracy_score(y_true, y_NBcount_nopro), \n",
        "                         precision_score(y_true, y_NBcount_nopro, average='weighted'), \n",
        "                         recall_score(y_true, y_NBcount_nopro, average='weighted'), \n",
        "                         f1_score(y_true, y_NBcount_nopro, average='weighted')]\n",
        "\n",
        "metrics_SVMcount_nopro = [\"SVMcount\",\n",
        "                          accuracy_score(y_true, y_SVMcount_nopro), \n",
        "                          precision_score(y_true, y_SVMcount_nopro, average='weighted'),\n",
        "                          recall_score(y_true, y_SVMcount_nopro, average='weighted'), \n",
        "                          f1_score(y_true, y_SVMcount_nopro, average='weighted')]\n",
        "\n",
        "metrics_NBtfidf_nopro = [\"NBtfidf\",\n",
        "                         accuracy_score(y_true, y_NBtfidf_nopro), \n",
        "                         precision_score(y_true, y_NBtfidf_nopro, average='weighted'), \n",
        "                         recall_score(y_true, y_NBtfidf_nopro, average='weighted'), \n",
        "                         f1_score(y_true, y_NBtfidf_nopro, average='weighted')]\n",
        "\n",
        "metrics_SVMtfidf_nopro = [\"SVMtfidf\",\n",
        "                          accuracy_score(y_true, y_SVMtfidf_nopro), \n",
        "                          precision_score(y_true, y_SVMtfidf_nopro, average='weighted'), \n",
        "                          recall_score(y_true, y_SVMtfidf_nopro, average='weighted'), \n",
        "                          f1_score(y_true, y_SVMtfidf_nopro, average='weighted')]"
      ],
      "metadata": {
        "id": "dKBizG3a_mpy"
      },
      "execution_count": 51,
      "outputs": []
    },
    {
      "cell_type": "markdown",
      "source": [
        "# With Processing\n"
      ],
      "metadata": {
        "id": "xNt0N00_507j"
      }
    },
    {
      "cell_type": "markdown",
      "source": [
        "## Preprocessing"
      ],
      "metadata": {
        "id": "A9em5lYi-HQw"
      }
    },
    {
      "cell_type": "code",
      "source": [
        "train = df.copy()\n",
        "test = df_test.copy()"
      ],
      "metadata": {
        "id": "vfi9Bv9d54wz"
      },
      "execution_count": 52,
      "outputs": []
    },
    {
      "cell_type": "code",
      "source": [
        "!pip install sastrawi\n",
        "\n",
        "import nltk\n",
        "nltk.download(\"all\")"
      ],
      "metadata": {
        "colab": {
          "base_uri": "https://localhost:8080/"
        },
        "id": "iQj52IS-A87h",
        "outputId": "5d000f3a-3c36-4292-d6cd-53d8484d22f3"
      },
      "execution_count": 53,
      "outputs": [
        {
          "output_type": "stream",
          "name": "stdout",
          "text": [
            "Requirement already satisfied: sastrawi in /usr/local/lib/python3.7/dist-packages (1.0.1)\n",
            "[nltk_data] Downloading collection 'all'\n",
            "[nltk_data]    | \n",
            "[nltk_data]    | Downloading package abc to /root/nltk_data...\n",
            "[nltk_data]    |   Package abc is already up-to-date!\n",
            "[nltk_data]    | Downloading package alpino to /root/nltk_data...\n",
            "[nltk_data]    |   Package alpino is already up-to-date!\n",
            "[nltk_data]    | Downloading package biocreative_ppi to\n",
            "[nltk_data]    |     /root/nltk_data...\n",
            "[nltk_data]    |   Package biocreative_ppi is already up-to-date!\n",
            "[nltk_data]    | Downloading package brown to /root/nltk_data...\n",
            "[nltk_data]    |   Package brown is already up-to-date!\n",
            "[nltk_data]    | Downloading package brown_tei to /root/nltk_data...\n",
            "[nltk_data]    |   Package brown_tei is already up-to-date!\n",
            "[nltk_data]    | Downloading package cess_cat to /root/nltk_data...\n",
            "[nltk_data]    |   Package cess_cat is already up-to-date!\n",
            "[nltk_data]    | Downloading package cess_esp to /root/nltk_data...\n",
            "[nltk_data]    |   Package cess_esp is already up-to-date!\n",
            "[nltk_data]    | Downloading package chat80 to /root/nltk_data...\n",
            "[nltk_data]    |   Package chat80 is already up-to-date!\n",
            "[nltk_data]    | Downloading package city_database to\n",
            "[nltk_data]    |     /root/nltk_data...\n",
            "[nltk_data]    |   Package city_database is already up-to-date!\n",
            "[nltk_data]    | Downloading package cmudict to /root/nltk_data...\n",
            "[nltk_data]    |   Package cmudict is already up-to-date!\n",
            "[nltk_data]    | Downloading package comparative_sentences to\n",
            "[nltk_data]    |     /root/nltk_data...\n",
            "[nltk_data]    |   Package comparative_sentences is already up-to-\n",
            "[nltk_data]    |       date!\n",
            "[nltk_data]    | Downloading package comtrans to /root/nltk_data...\n",
            "[nltk_data]    |   Package comtrans is already up-to-date!\n",
            "[nltk_data]    | Downloading package conll2000 to /root/nltk_data...\n",
            "[nltk_data]    |   Package conll2000 is already up-to-date!\n",
            "[nltk_data]    | Downloading package conll2002 to /root/nltk_data...\n",
            "[nltk_data]    |   Package conll2002 is already up-to-date!\n",
            "[nltk_data]    | Downloading package conll2007 to /root/nltk_data...\n",
            "[nltk_data]    |   Package conll2007 is already up-to-date!\n",
            "[nltk_data]    | Downloading package crubadan to /root/nltk_data...\n",
            "[nltk_data]    |   Package crubadan is already up-to-date!\n",
            "[nltk_data]    | Downloading package dependency_treebank to\n",
            "[nltk_data]    |     /root/nltk_data...\n",
            "[nltk_data]    |   Package dependency_treebank is already up-to-date!\n",
            "[nltk_data]    | Downloading package dolch to /root/nltk_data...\n",
            "[nltk_data]    |   Package dolch is already up-to-date!\n",
            "[nltk_data]    | Downloading package europarl_raw to\n",
            "[nltk_data]    |     /root/nltk_data...\n",
            "[nltk_data]    |   Package europarl_raw is already up-to-date!\n",
            "[nltk_data]    | Downloading package floresta to /root/nltk_data...\n",
            "[nltk_data]    |   Package floresta is already up-to-date!\n",
            "[nltk_data]    | Downloading package framenet_v15 to\n",
            "[nltk_data]    |     /root/nltk_data...\n",
            "[nltk_data]    |   Package framenet_v15 is already up-to-date!\n",
            "[nltk_data]    | Downloading package framenet_v17 to\n",
            "[nltk_data]    |     /root/nltk_data...\n",
            "[nltk_data]    |   Package framenet_v17 is already up-to-date!\n",
            "[nltk_data]    | Downloading package gazetteers to /root/nltk_data...\n",
            "[nltk_data]    |   Package gazetteers is already up-to-date!\n",
            "[nltk_data]    | Downloading package genesis to /root/nltk_data...\n",
            "[nltk_data]    |   Package genesis is already up-to-date!\n",
            "[nltk_data]    | Downloading package gutenberg to /root/nltk_data...\n",
            "[nltk_data]    |   Package gutenberg is already up-to-date!\n",
            "[nltk_data]    | Downloading package ieer to /root/nltk_data...\n",
            "[nltk_data]    |   Package ieer is already up-to-date!\n",
            "[nltk_data]    | Downloading package inaugural to /root/nltk_data...\n",
            "[nltk_data]    |   Package inaugural is already up-to-date!\n",
            "[nltk_data]    | Downloading package indian to /root/nltk_data...\n",
            "[nltk_data]    |   Package indian is already up-to-date!\n",
            "[nltk_data]    | Downloading package jeita to /root/nltk_data...\n",
            "[nltk_data]    |   Package jeita is already up-to-date!\n",
            "[nltk_data]    | Downloading package kimmo to /root/nltk_data...\n",
            "[nltk_data]    |   Package kimmo is already up-to-date!\n",
            "[nltk_data]    | Downloading package knbc to /root/nltk_data...\n",
            "[nltk_data]    |   Package knbc is already up-to-date!\n",
            "[nltk_data]    | Downloading package lin_thesaurus to\n",
            "[nltk_data]    |     /root/nltk_data...\n",
            "[nltk_data]    |   Package lin_thesaurus is already up-to-date!\n",
            "[nltk_data]    | Downloading package mac_morpho to /root/nltk_data...\n",
            "[nltk_data]    |   Package mac_morpho is already up-to-date!\n",
            "[nltk_data]    | Downloading package machado to /root/nltk_data...\n",
            "[nltk_data]    |   Package machado is already up-to-date!\n",
            "[nltk_data]    | Downloading package masc_tagged to /root/nltk_data...\n",
            "[nltk_data]    |   Package masc_tagged is already up-to-date!\n",
            "[nltk_data]    | Downloading package moses_sample to\n",
            "[nltk_data]    |     /root/nltk_data...\n",
            "[nltk_data]    |   Package moses_sample is already up-to-date!\n",
            "[nltk_data]    | Downloading package movie_reviews to\n",
            "[nltk_data]    |     /root/nltk_data...\n",
            "[nltk_data]    |   Package movie_reviews is already up-to-date!\n",
            "[nltk_data]    | Downloading package names to /root/nltk_data...\n",
            "[nltk_data]    |   Package names is already up-to-date!\n",
            "[nltk_data]    | Downloading package nombank.1.0 to /root/nltk_data...\n",
            "[nltk_data]    |   Package nombank.1.0 is already up-to-date!\n",
            "[nltk_data]    | Downloading package nps_chat to /root/nltk_data...\n",
            "[nltk_data]    |   Package nps_chat is already up-to-date!\n",
            "[nltk_data]    | Downloading package omw to /root/nltk_data...\n",
            "[nltk_data]    |   Package omw is already up-to-date!\n",
            "[nltk_data]    | Downloading package opinion_lexicon to\n",
            "[nltk_data]    |     /root/nltk_data...\n",
            "[nltk_data]    |   Package opinion_lexicon is already up-to-date!\n",
            "[nltk_data]    | Downloading package paradigms to /root/nltk_data...\n",
            "[nltk_data]    |   Package paradigms is already up-to-date!\n",
            "[nltk_data]    | Downloading package pil to /root/nltk_data...\n",
            "[nltk_data]    |   Package pil is already up-to-date!\n",
            "[nltk_data]    | Downloading package pl196x to /root/nltk_data...\n",
            "[nltk_data]    |   Package pl196x is already up-to-date!\n",
            "[nltk_data]    | Downloading package ppattach to /root/nltk_data...\n",
            "[nltk_data]    |   Package ppattach is already up-to-date!\n",
            "[nltk_data]    | Downloading package problem_reports to\n",
            "[nltk_data]    |     /root/nltk_data...\n",
            "[nltk_data]    |   Package problem_reports is already up-to-date!\n",
            "[nltk_data]    | Downloading package propbank to /root/nltk_data...\n",
            "[nltk_data]    |   Package propbank is already up-to-date!\n",
            "[nltk_data]    | Downloading package ptb to /root/nltk_data...\n",
            "[nltk_data]    |   Package ptb is already up-to-date!\n",
            "[nltk_data]    | Downloading package product_reviews_1 to\n",
            "[nltk_data]    |     /root/nltk_data...\n",
            "[nltk_data]    |   Package product_reviews_1 is already up-to-date!\n",
            "[nltk_data]    | Downloading package product_reviews_2 to\n",
            "[nltk_data]    |     /root/nltk_data...\n",
            "[nltk_data]    |   Package product_reviews_2 is already up-to-date!\n",
            "[nltk_data]    | Downloading package pros_cons to /root/nltk_data...\n",
            "[nltk_data]    |   Package pros_cons is already up-to-date!\n",
            "[nltk_data]    | Downloading package qc to /root/nltk_data...\n",
            "[nltk_data]    |   Package qc is already up-to-date!\n",
            "[nltk_data]    | Downloading package reuters to /root/nltk_data...\n",
            "[nltk_data]    |   Package reuters is already up-to-date!\n",
            "[nltk_data]    | Downloading package rte to /root/nltk_data...\n",
            "[nltk_data]    |   Package rte is already up-to-date!\n",
            "[nltk_data]    | Downloading package semcor to /root/nltk_data...\n",
            "[nltk_data]    |   Package semcor is already up-to-date!\n",
            "[nltk_data]    | Downloading package senseval to /root/nltk_data...\n",
            "[nltk_data]    |   Package senseval is already up-to-date!\n",
            "[nltk_data]    | Downloading package sentiwordnet to\n",
            "[nltk_data]    |     /root/nltk_data...\n",
            "[nltk_data]    |   Package sentiwordnet is already up-to-date!\n",
            "[nltk_data]    | Downloading package sentence_polarity to\n",
            "[nltk_data]    |     /root/nltk_data...\n",
            "[nltk_data]    |   Package sentence_polarity is already up-to-date!\n",
            "[nltk_data]    | Downloading package shakespeare to /root/nltk_data...\n",
            "[nltk_data]    |   Package shakespeare is already up-to-date!\n",
            "[nltk_data]    | Downloading package sinica_treebank to\n",
            "[nltk_data]    |     /root/nltk_data...\n",
            "[nltk_data]    |   Package sinica_treebank is already up-to-date!\n",
            "[nltk_data]    | Downloading package smultron to /root/nltk_data...\n",
            "[nltk_data]    |   Package smultron is already up-to-date!\n",
            "[nltk_data]    | Downloading package state_union to /root/nltk_data...\n",
            "[nltk_data]    |   Package state_union is already up-to-date!\n",
            "[nltk_data]    | Downloading package stopwords to /root/nltk_data...\n",
            "[nltk_data]    |   Package stopwords is already up-to-date!\n",
            "[nltk_data]    | Downloading package subjectivity to\n",
            "[nltk_data]    |     /root/nltk_data...\n",
            "[nltk_data]    |   Package subjectivity is already up-to-date!\n",
            "[nltk_data]    | Downloading package swadesh to /root/nltk_data...\n",
            "[nltk_data]    |   Package swadesh is already up-to-date!\n",
            "[nltk_data]    | Downloading package switchboard to /root/nltk_data...\n",
            "[nltk_data]    |   Package switchboard is already up-to-date!\n",
            "[nltk_data]    | Downloading package timit to /root/nltk_data...\n",
            "[nltk_data]    |   Package timit is already up-to-date!\n",
            "[nltk_data]    | Downloading package toolbox to /root/nltk_data...\n",
            "[nltk_data]    |   Package toolbox is already up-to-date!\n",
            "[nltk_data]    | Downloading package treebank to /root/nltk_data...\n",
            "[nltk_data]    |   Package treebank is already up-to-date!\n",
            "[nltk_data]    | Downloading package twitter_samples to\n",
            "[nltk_data]    |     /root/nltk_data...\n",
            "[nltk_data]    |   Package twitter_samples is already up-to-date!\n",
            "[nltk_data]    | Downloading package udhr to /root/nltk_data...\n",
            "[nltk_data]    |   Package udhr is already up-to-date!\n",
            "[nltk_data]    | Downloading package udhr2 to /root/nltk_data...\n",
            "[nltk_data]    |   Package udhr2 is already up-to-date!\n",
            "[nltk_data]    | Downloading package unicode_samples to\n",
            "[nltk_data]    |     /root/nltk_data...\n",
            "[nltk_data]    |   Package unicode_samples is already up-to-date!\n",
            "[nltk_data]    | Downloading package universal_treebanks_v20 to\n",
            "[nltk_data]    |     /root/nltk_data...\n",
            "[nltk_data]    |   Package universal_treebanks_v20 is already up-to-\n",
            "[nltk_data]    |       date!\n",
            "[nltk_data]    | Downloading package verbnet to /root/nltk_data...\n",
            "[nltk_data]    |   Package verbnet is already up-to-date!\n",
            "[nltk_data]    | Downloading package verbnet3 to /root/nltk_data...\n",
            "[nltk_data]    |   Package verbnet3 is already up-to-date!\n",
            "[nltk_data]    | Downloading package webtext to /root/nltk_data...\n",
            "[nltk_data]    |   Package webtext is already up-to-date!\n",
            "[nltk_data]    | Downloading package wordnet to /root/nltk_data...\n",
            "[nltk_data]    |   Package wordnet is already up-to-date!\n",
            "[nltk_data]    | Downloading package wordnet31 to /root/nltk_data...\n",
            "[nltk_data]    |   Package wordnet31 is already up-to-date!\n",
            "[nltk_data]    | Downloading package wordnet_ic to /root/nltk_data...\n",
            "[nltk_data]    |   Package wordnet_ic is already up-to-date!\n",
            "[nltk_data]    | Downloading package words to /root/nltk_data...\n",
            "[nltk_data]    |   Package words is already up-to-date!\n",
            "[nltk_data]    | Downloading package ycoe to /root/nltk_data...\n",
            "[nltk_data]    |   Package ycoe is already up-to-date!\n",
            "[nltk_data]    | Downloading package rslp to /root/nltk_data...\n",
            "[nltk_data]    |   Package rslp is already up-to-date!\n",
            "[nltk_data]    | Downloading package maxent_treebank_pos_tagger to\n",
            "[nltk_data]    |     /root/nltk_data...\n",
            "[nltk_data]    |   Package maxent_treebank_pos_tagger is already up-\n",
            "[nltk_data]    |       to-date!\n",
            "[nltk_data]    | Downloading package universal_tagset to\n",
            "[nltk_data]    |     /root/nltk_data...\n",
            "[nltk_data]    |   Package universal_tagset is already up-to-date!\n",
            "[nltk_data]    | Downloading package maxent_ne_chunker to\n",
            "[nltk_data]    |     /root/nltk_data...\n",
            "[nltk_data]    |   Package maxent_ne_chunker is already up-to-date!\n",
            "[nltk_data]    | Downloading package punkt to /root/nltk_data...\n",
            "[nltk_data]    |   Package punkt is already up-to-date!\n",
            "[nltk_data]    | Downloading package book_grammars to\n",
            "[nltk_data]    |     /root/nltk_data...\n",
            "[nltk_data]    |   Package book_grammars is already up-to-date!\n",
            "[nltk_data]    | Downloading package sample_grammars to\n",
            "[nltk_data]    |     /root/nltk_data...\n",
            "[nltk_data]    |   Package sample_grammars is already up-to-date!\n",
            "[nltk_data]    | Downloading package spanish_grammars to\n",
            "[nltk_data]    |     /root/nltk_data...\n",
            "[nltk_data]    |   Package spanish_grammars is already up-to-date!\n",
            "[nltk_data]    | Downloading package basque_grammars to\n",
            "[nltk_data]    |     /root/nltk_data...\n",
            "[nltk_data]    |   Package basque_grammars is already up-to-date!\n",
            "[nltk_data]    | Downloading package large_grammars to\n",
            "[nltk_data]    |     /root/nltk_data...\n",
            "[nltk_data]    |   Package large_grammars is already up-to-date!\n",
            "[nltk_data]    | Downloading package tagsets to /root/nltk_data...\n",
            "[nltk_data]    |   Package tagsets is already up-to-date!\n",
            "[nltk_data]    | Downloading package snowball_data to\n",
            "[nltk_data]    |     /root/nltk_data...\n",
            "[nltk_data]    |   Package snowball_data is already up-to-date!\n",
            "[nltk_data]    | Downloading package bllip_wsj_no_aux to\n",
            "[nltk_data]    |     /root/nltk_data...\n",
            "[nltk_data]    |   Package bllip_wsj_no_aux is already up-to-date!\n",
            "[nltk_data]    | Downloading package word2vec_sample to\n",
            "[nltk_data]    |     /root/nltk_data...\n",
            "[nltk_data]    |   Package word2vec_sample is already up-to-date!\n",
            "[nltk_data]    | Downloading package panlex_swadesh to\n",
            "[nltk_data]    |     /root/nltk_data...\n",
            "[nltk_data]    |   Package panlex_swadesh is already up-to-date!\n",
            "[nltk_data]    | Downloading package mte_teip5 to /root/nltk_data...\n",
            "[nltk_data]    |   Package mte_teip5 is already up-to-date!\n",
            "[nltk_data]    | Downloading package averaged_perceptron_tagger to\n",
            "[nltk_data]    |     /root/nltk_data...\n",
            "[nltk_data]    |   Package averaged_perceptron_tagger is already up-\n",
            "[nltk_data]    |       to-date!\n",
            "[nltk_data]    | Downloading package averaged_perceptron_tagger_ru to\n",
            "[nltk_data]    |     /root/nltk_data...\n",
            "[nltk_data]    |   Package averaged_perceptron_tagger_ru is already\n",
            "[nltk_data]    |       up-to-date!\n",
            "[nltk_data]    | Downloading package perluniprops to\n",
            "[nltk_data]    |     /root/nltk_data...\n",
            "[nltk_data]    |   Package perluniprops is already up-to-date!\n",
            "[nltk_data]    | Downloading package nonbreaking_prefixes to\n",
            "[nltk_data]    |     /root/nltk_data...\n",
            "[nltk_data]    |   Package nonbreaking_prefixes is already up-to-date!\n",
            "[nltk_data]    | Downloading package vader_lexicon to\n",
            "[nltk_data]    |     /root/nltk_data...\n",
            "[nltk_data]    |   Package vader_lexicon is already up-to-date!\n",
            "[nltk_data]    | Downloading package porter_test to /root/nltk_data...\n",
            "[nltk_data]    |   Package porter_test is already up-to-date!\n",
            "[nltk_data]    | Downloading package wmt15_eval to /root/nltk_data...\n",
            "[nltk_data]    |   Package wmt15_eval is already up-to-date!\n",
            "[nltk_data]    | Downloading package mwa_ppdb to /root/nltk_data...\n",
            "[nltk_data]    |   Package mwa_ppdb is already up-to-date!\n",
            "[nltk_data]    | \n",
            "[nltk_data]  Done downloading collection all\n"
          ]
        },
        {
          "output_type": "execute_result",
          "data": {
            "text/plain": [
              "True"
            ]
          },
          "metadata": {},
          "execution_count": 53
        }
      ]
    },
    {
      "cell_type": "code",
      "source": [
        "from Sastrawi.Stemmer.StemmerFactory import StemmerFactory\n",
        "from nltk.corpus import stopwords\n",
        "from nltk.tokenize import word_tokenize \n",
        "\n",
        "def stemming(word):\n",
        "  factory = StemmerFactory()\n",
        "  stemmer = factory.create_stemmer()\n",
        "\n",
        "  return stemmer.stem(word)\n",
        "\n",
        "list_stopwords = set(stopwords.words('indonesian'))\n",
        "\n",
        "def remove_stopword(sentence):\n",
        "  processed_test = []\n",
        "  tokens = word_tokenize(sentence)\n",
        "  filtered = [word for word in tokens if word not in list_stopwords]\n",
        "  return \" \".join(filtered)"
      ],
      "metadata": {
        "id": "0UP5-9q0BHdZ"
      },
      "execution_count": 54,
      "outputs": []
    },
    {
      "cell_type": "code",
      "source": [
        "import string\n",
        "\n",
        "train[\"Review\"] = train[\"Review\"].str.lower()\n",
        "train[\"Review\"] = train['Review'].str.replace('[{}]'.format(string.punctuation), '')\n",
        "train['Review'] = train['Review'].apply(stemming)\n",
        "train['Review'] = train['Review'].apply(remove_stopword)\n",
        "\n",
        "test[\"Review\"] = test[\"Review\"].str.lower()\n",
        "test[\"Review\"] = test['Review'].str.replace('[{}]'.format(string.punctuation), '')\n",
        "test['Review'] = test['Review'].apply(stemming)\n",
        "test['Review'] = test['Review'].apply(remove_stopword)"
      ],
      "metadata": {
        "id": "cjVswXBkAxCm"
      },
      "execution_count": 55,
      "outputs": []
    },
    {
      "cell_type": "markdown",
      "source": [
        "## Modelling\n"
      ],
      "metadata": {
        "id": "szVWCnY0-KYh"
      }
    },
    {
      "cell_type": "code",
      "source": [
        "from sklearn.feature_extraction.text import TfidfVectorizer,CountVectorizer\n",
        "from sklearn.naive_bayes import MultinomialNB\n",
        "from sklearn import svm\n",
        "from sklearn.model_selection import train_test_split\n",
        "\n",
        "from sklearn.model_selection import KFold\n",
        "from sklearn.model_selection import cross_val_score\n",
        "from sklearn import metrics\n",
        "\n",
        "from numpy import mean\n",
        "from numpy import std"
      ],
      "metadata": {
        "id": "mezXa3n6B4Rk"
      },
      "execution_count": 56,
      "outputs": []
    },
    {
      "cell_type": "code",
      "source": [
        "CountVector_withpro = CountVectorizer(ngram_range=(1,1))\n",
        "TfidfVector_withpro = TfidfVectorizer(ngram_range=(1,1))"
      ],
      "metadata": {
        "id": "SunVRXT-CHbS"
      },
      "execution_count": 57,
      "outputs": []
    },
    {
      "cell_type": "code",
      "source": [
        "X_count_withpro = CountVector_withpro.fit_transform(train[\"Review\"])\n",
        "X_tfidf_withpro= TfidfVector_withpro.fit_transform(train[\"Review\"])"
      ],
      "metadata": {
        "id": "NIIYjAzBCOP0"
      },
      "execution_count": 58,
      "outputs": []
    },
    {
      "cell_type": "markdown",
      "source": [
        "### Count"
      ],
      "metadata": {
        "id": "usAwAXbFCnPe"
      }
    },
    {
      "cell_type": "markdown",
      "source": [
        "#### Count with Naive bayes"
      ],
      "metadata": {
        "id": "4frmVO3rCvH_"
      }
    },
    {
      "cell_type": "code",
      "source": [
        "NBmodelCount_withpro = MultinomialNB()\n",
        "cv = KFold(n_splits=10, random_state=1, shuffle=True)\n",
        "scores_NBcount_withpro = cross_val_score(NBmodelCount_withpro, X_count_withpro.toarray(), train[\"Label\"], scoring='accuracy', cv=cv, n_jobs=-1)\n",
        "print('Accuracy: %.3f (%.3f)' % (mean(scores_NBcount_withpro), std(scores_NBcount_withpro)))\n",
        "NBmodelCount_withpro.fit(X_count_withpro.toarray(), train[\"Label\"])"
      ],
      "metadata": {
        "colab": {
          "base_uri": "https://localhost:8080/"
        },
        "id": "oV0gE9wRCmrz",
        "outputId": "e339ce83-d72f-4d85-c6db-9996e1334d0d"
      },
      "execution_count": 59,
      "outputs": [
        {
          "output_type": "stream",
          "name": "stdout",
          "text": [
            "Accuracy: 0.767 (0.138)\n"
          ]
        },
        {
          "output_type": "execute_result",
          "data": {
            "text/plain": [
              "MultinomialNB()"
            ]
          },
          "metadata": {},
          "execution_count": 59
        }
      ]
    },
    {
      "cell_type": "markdown",
      "source": [
        "#### Count with SVM"
      ],
      "metadata": {
        "id": "iE7O4X9ZC0kh"
      }
    },
    {
      "cell_type": "code",
      "source": [
        "SVMmodelCount_withpro = svm.SVC(kernel=\"linear\")\n",
        "cv = KFold(n_splits=10, random_state=1, shuffle=True)\n",
        "scores_SVMcount_withpro = cross_val_score(SVMmodelCount_withpro, X_count_withpro.toarray(), train[\"Label\"], scoring='accuracy', cv=cv, n_jobs=-1)\n",
        "print('Accuracy: %.3f (%.3f)' % (mean(scores_SVMcount_withpro), std(scores_SVMcount_withpro)))\n",
        "SVMmodelCount_withpro.fit(X_count_withpro.toarray(), train[\"Label\"])"
      ],
      "metadata": {
        "colab": {
          "base_uri": "https://localhost:8080/"
        },
        "id": "_qsMh4qiC35t",
        "outputId": "2ad92d77-a309-4d79-edb5-48cc63dc4cc9"
      },
      "execution_count": 60,
      "outputs": [
        {
          "output_type": "stream",
          "name": "stdout",
          "text": [
            "Accuracy: 0.708 (0.093)\n"
          ]
        },
        {
          "output_type": "execute_result",
          "data": {
            "text/plain": [
              "SVC(kernel='linear')"
            ]
          },
          "metadata": {},
          "execution_count": 60
        }
      ]
    },
    {
      "cell_type": "markdown",
      "source": [
        "### TFIDF"
      ],
      "metadata": {
        "id": "QzuI3widCrLZ"
      }
    },
    {
      "cell_type": "markdown",
      "source": [
        "#### Tfidf Naive bayes"
      ],
      "metadata": {
        "id": "2OSie3xsC5OB"
      }
    },
    {
      "cell_type": "code",
      "source": [
        "NBmodelTfidf_withpro = MultinomialNB()\n",
        "cv = KFold(n_splits=10, random_state=1, shuffle=True)\n",
        "scores_NBtfidf_withpro = cross_val_score(NBmodelTfidf_withpro, X_tfidf_withpro.toarray(), train[\"Label\"], scoring='accuracy', cv=cv, n_jobs=-1)\n",
        "print('Accuracy: %.3f (%.3f)' % (mean(scores_NBtfidf_withpro), std(scores_NBtfidf_withpro)))\n",
        "NBmodelTfidf_withpro.fit(X_tfidf_withpro.toarray(), train[\"Label\"])"
      ],
      "metadata": {
        "colab": {
          "base_uri": "https://localhost:8080/"
        },
        "id": "hLUXAKvwCt3_",
        "outputId": "d3b62acc-0bd8-49cd-d376-21da9e6a8067"
      },
      "execution_count": 61,
      "outputs": [
        {
          "output_type": "stream",
          "name": "stdout",
          "text": [
            "Accuracy: 0.708 (0.141)\n"
          ]
        },
        {
          "output_type": "execute_result",
          "data": {
            "text/plain": [
              "MultinomialNB()"
            ]
          },
          "metadata": {},
          "execution_count": 61
        }
      ]
    },
    {
      "cell_type": "markdown",
      "source": [
        "#### Tfidf with SVM"
      ],
      "metadata": {
        "id": "4SS8auHjC9U3"
      }
    },
    {
      "cell_type": "code",
      "source": [
        "SVMmodelTfidf_withpro = svm.SVC(kernel=\"linear\")\n",
        "cv = KFold(n_splits=10, random_state=1, shuffle=True)\n",
        "scores_SVMtfidf_withpro = cross_val_score(SVMmodelTfidf_withpro, X_tfidf_withpro.toarray(), train[\"Label\"], scoring='accuracy', cv=cv, n_jobs=-1)\n",
        "print('Accuracy: %.3f (%.3f)' % (mean(scores_SVMtfidf_withpro), std(scores_SVMtfidf_withpro)))\n",
        "SVMmodelTfidf_withpro.fit(X_tfidf_withpro.toarray(), train[\"Label\"])"
      ],
      "metadata": {
        "colab": {
          "base_uri": "https://localhost:8080/"
        },
        "id": "FiDNo6r5DAG1",
        "outputId": "863d34d3-08f4-4079-fb7c-113aa4a80a38"
      },
      "execution_count": 62,
      "outputs": [
        {
          "output_type": "stream",
          "name": "stdout",
          "text": [
            "Accuracy: 0.775 (0.092)\n"
          ]
        },
        {
          "output_type": "execute_result",
          "data": {
            "text/plain": [
              "SVC(kernel='linear')"
            ]
          },
          "metadata": {},
          "execution_count": 62
        }
      ]
    },
    {
      "cell_type": "markdown",
      "source": [
        "## Testing"
      ],
      "metadata": {
        "id": "WCgjplJnGs6a"
      }
    },
    {
      "cell_type": "code",
      "source": [
        "from sklearn.metrics import recall_score, precision_score, accuracy_score, f1_score\n",
        "\n",
        "test_count_withpro = CountVector_withpro.transform(test[\"Review\"]).toarray()\n",
        "test_tfidf_withpro = TfidfVector_withpro.transform(test[\"Review\"]).toarray()"
      ],
      "metadata": {
        "id": "i0PawnjuGxOS"
      },
      "execution_count": 63,
      "outputs": []
    },
    {
      "cell_type": "code",
      "source": [
        "y_true = test[\"Label\"]\n",
        "y_NBcount_withpro = NBmodelCount_withpro.predict(test_count_withpro)\n",
        "y_SVMcount_withpro = SVMmodelCount_withpro.predict(test_count_withpro)\n",
        "y_NBtfidf_withpro = NBmodelTfidf_withpro.predict(test_tfidf_withpro)\n",
        "y_SVMtfidf_withpro = SVMmodelTfidf_withpro.predict(test_tfidf_withpro)"
      ],
      "metadata": {
        "id": "WU5yXv1eHAnS"
      },
      "execution_count": 64,
      "outputs": []
    },
    {
      "cell_type": "code",
      "source": [
        "metrics_NBcount_withpro = [\"NBcount\",\n",
        "                           accuracy_score(y_true, y_NBcount_withpro), \n",
        "                           precision_score(y_true, y_NBcount_withpro, average='weighted'), \n",
        "                           recall_score(y_true, y_NBcount_withpro, average='weighted'), \n",
        "                           f1_score(y_true, y_NBcount_withpro, average='weighted')]\n",
        "\n",
        "metrics_SVMcount_withpro = [\"SVMcount\",\n",
        "                            accuracy_score(y_true, y_SVMcount_withpro), \n",
        "                            precision_score(y_true, y_SVMcount_withpro, average='weighted'),\n",
        "                            recall_score(y_true, y_SVMcount_withpro, average='weighted'), \n",
        "                            f1_score(y_true, y_SVMcount_withpro, average='weighted')]\n",
        "\n",
        "metrics_NBtfidf_withpro = [\"NBtfidf\",\n",
        "                           accuracy_score(y_true, y_NBtfidf_withpro), \n",
        "                           precision_score(y_true, y_NBtfidf_withpro, average='weighted'), \n",
        "                           recall_score(y_true, y_NBtfidf_withpro, average='weighted'), \n",
        "                           f1_score(y_true, y_NBtfidf_withpro, average='weighted')]\n",
        "\n",
        "metrics_SVMtfidf_withpro = [\"SVMtfidf\",\n",
        "                            accuracy_score(y_true, y_SVMtfidf_withpro), \n",
        "                            precision_score(y_true, y_SVMtfidf_withpro, average='weighted'), \n",
        "                            recall_score(y_true, y_SVMtfidf_withpro, average='weighted'), \n",
        "                            f1_score(y_true, y_SVMtfidf_withpro, average='weighted')]"
      ],
      "metadata": {
        "id": "4ZM5GNEMHDCn"
      },
      "execution_count": 65,
      "outputs": []
    },
    {
      "cell_type": "markdown",
      "source": [
        "# Visualization result"
      ],
      "metadata": {
        "id": "7znLbHfb55ag"
      }
    },
    {
      "cell_type": "markdown",
      "source": [
        "## Cross validation"
      ],
      "metadata": {
        "id": "M-6eZ3CrIGRb"
      }
    },
    {
      "cell_type": "markdown",
      "source": [
        "### without processing"
      ],
      "metadata": {
        "id": "bnRpWu8KI13q"
      }
    },
    {
      "cell_type": "code",
      "source": [
        "import matplotlib.pyplot as plt\n",
        "\n",
        "plt.figure(figsize=(10, 10))\n",
        "plt.subplot(2, 1, 1)\n",
        "\n",
        "plt.plot(scores_NBcount_nopro, label='naive bayes count')\n",
        "plt.plot(scores_SVMcount_nopro, label='SVM count')\n",
        "plt.plot(scores_NBtfidf_nopro, label='naive bayes tfidf')\n",
        "plt.plot(scores_SVMtfidf_nopro, label='SVM tfidf')\n",
        "\n",
        "plt.legend(loc='lower right')\n",
        "plt.title(\"Cross Validation Score without processing\")\n",
        "plt.show()"
      ],
      "metadata": {
        "colab": {
          "base_uri": "https://localhost:8080/",
          "height": 311
        },
        "id": "BLK9PN0n6DwS",
        "outputId": "0291e149-0393-4f02-f812-a3151a49ebc8"
      },
      "execution_count": 66,
      "outputs": [
        {
          "output_type": "display_data",
          "data": {
            "image/png": "[encoded data removed]",
            "text/plain": [
              "<Figure size 720x720 with 1 Axes>"
            ]
          },
          "metadata": {
            "needs_background": "light"
          }
        }
      ]
    },
    {
      "cell_type": "markdown",
      "source": [
        "### with processing"
      ],
      "metadata": {
        "id": "U_zm8f0lI4r4"
      }
    },
    {
      "cell_type": "code",
      "source": [
        "import matplotlib.pyplot as plt\n",
        "\n",
        "plt.figure(figsize=(10, 10))\n",
        "plt.subplot(2, 1, 1)\n",
        "\n",
        "plt.plot(scores_NBcount_withpro, label='naive bayes count')\n",
        "plt.plot(scores_SVMcount_withpro, label='SVM count')\n",
        "plt.plot(scores_NBtfidf_withpro, label='naive bayes tfidf')\n",
        "plt.plot(scores_SVMtfidf_withpro, label='SVM tfidf')\n",
        "\n",
        "plt.legend(loc='lower right')\n",
        "plt.title(\"Cross Validation Score with processing\")\n",
        "plt.show()"
      ],
      "metadata": {
        "colab": {
          "base_uri": "https://localhost:8080/",
          "height": 311
        },
        "id": "xL04SW-pIYHr",
        "outputId": "a84b3311-2708-4b75-c691-aa70ad5c2396"
      },
      "execution_count": 67,
      "outputs": [
        {
          "output_type": "display_data",
          "data": {
            "image/png": "[encoded data removed]",
            "text/plain": [
              "<Figure size 720x720 with 1 Axes>"
            ]
          },
          "metadata": {
            "needs_background": "light"
          }
        }
      ]
    },
    {
      "cell_type": "markdown",
      "source": [
        "## Table benchmarks metrics"
      ],
      "metadata": {
        "id": "sm66Pg0SIJaT"
      }
    },
    {
      "cell_type": "markdown",
      "source": [
        "### without processing"
      ],
      "metadata": {
        "id": "NebQRLr9JAv2"
      }
    },
    {
      "cell_type": "code",
      "source": [
        "from prettytable import PrettyTable\n",
        "    \n",
        "x_no = PrettyTable()\n",
        "\n",
        "x_no.field_names = [\"Label\",\"Accuracy\", \"Precission\", \"Recall\", \"F1_score\"]\n",
        "\n",
        "x_no.add_row(metrics_NBcount_nopro)\n",
        "x_no.add_row(metrics_SVMcount_nopro)\n",
        "x_no.add_row(metrics_NBtfidf_nopro)\n",
        "x_no.add_row(metrics_SVMtfidf_nopro)\n",
        "\n",
        "print(x_no)"
      ],
      "metadata": {
        "colab": {
          "base_uri": "https://localhost:8080/"
        },
        "id": "JiUVLJxIIRNT",
        "outputId": "c86f25ff-bdb0-41cd-f0a9-89a8f925a971"
      },
      "execution_count": 68,
      "outputs": [
        {
          "output_type": "stream",
          "name": "stdout",
          "text": [
            "+----------+----------+--------------------+--------+--------------------+\n",
            "|  Label   | Accuracy |     Precission     | Recall |      F1_score      |\n",
            "+----------+----------+--------------------+--------+--------------------+\n",
            "| NBcount  |  0.925   | 0.9262499999999999 | 0.925  | 0.925046904315197  |\n",
            "| SVMcount |  0.925   | 0.9262499999999999 | 0.925  | 0.925046904315197  |\n",
            "| NBtfidf  |  0.875   | 0.9010416666666666 | 0.875  | 0.8738214959145193 |\n",
            "| SVMtfidf |   0.95   | 0.9547619047619047 |  0.95  |        0.95        |\n",
            "+----------+----------+--------------------+--------+--------------------+\n"
          ]
        }
      ]
    },
    {
      "cell_type": "markdown",
      "source": [
        "### with processing"
      ],
      "metadata": {
        "id": "wcpLeUfhJDNY"
      }
    },
    {
      "cell_type": "code",
      "source": [
        "from prettytable import PrettyTable\n",
        "    \n",
        "x_with = PrettyTable()\n",
        "\n",
        "x_with.field_names = [\"Label\",\"Accuracy\", \"Precission\", \"Recall\", \"F1_score\"]\n",
        "\n",
        "x_with.add_row(metrics_NBcount_withpro)\n",
        "x_with.add_row(metrics_SVMcount_withpro)\n",
        "x_with.add_row(metrics_NBtfidf_withpro)\n",
        "x_with.add_row(metrics_SVMtfidf_withpro)\n",
        "\n",
        "print(x_with)"
      ],
      "metadata": {
        "colab": {
          "base_uri": "https://localhost:8080/"
        },
        "id": "8FY0ljK8JuZs",
        "outputId": "ee1be1c7-156a-4562-dfc1-649754c8d95c"
      },
      "execution_count": 69,
      "outputs": [
        {
          "output_type": "stream",
          "name": "stdout",
          "text": [
            "+----------+----------+--------------------+--------+--------------------+\n",
            "|  Label   | Accuracy |     Precission     | Recall |      F1_score      |\n",
            "+----------+----------+--------------------+--------+--------------------+\n",
            "| NBcount  |   0.75   | 0.8012820512820513 |  0.75  | 0.7423273657289002 |\n",
            "| SVMcount |  0.725   | 0.7248737373737374 | 0.725  | 0.7244814582023885 |\n",
            "| NBtfidf  |   0.75   | 0.8012820512820513 |  0.75  | 0.7423273657289002 |\n",
            "| SVMtfidf |   0.8    | 0.8143222506393861 |  0.8   | 0.7989974937343358 |\n",
            "+----------+----------+--------------------+--------+--------------------+\n"
          ]
        }
      ]
    }
  ]
}